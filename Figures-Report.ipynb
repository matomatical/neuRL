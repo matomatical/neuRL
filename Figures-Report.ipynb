{
 "cells": [
  {
   "cell_type": "code",
   "execution_count": 7,
   "metadata": {},
   "outputs": [],
   "source": [
    "import pickle\n",
    "import os\n",
    "\n",
    "import numpy as np\n",
    "import matplotlib.pyplot as plt\n",
    "import matplotlib.ticker as mtick\n",
    "import scipy.stats as stats\n",
    "\n",
    "from util.gmm import GMM\n",
    "from util.expectiles import expectile, tauspace\n",
    "import figures"
   ]
  },
  {
   "cell_type": "code",
   "execution_count": 2,
   "metadata": {},
   "outputs": [],
   "source": [
    "%load_ext autoreload\n",
    "%autoreload 2\n",
    "%matplotlib inline"
   ]
  },
  {
   "cell_type": "markdown",
   "metadata": {},
   "source": [
    "### Acknowledgement\n",
    "\n",
    "Thanks to [J. Walton's post](https://jwalton.info/Embed-Publication-Matplotlib-Latex/)---instructions for pdf-perfect plots from matplotlib.\n",
    "\n",
    "Thanks to Sihan for writing the code to plot the IGT data."
   ]
  },
  {
   "cell_type": "markdown",
   "metadata": {},
   "source": [
    "## Load the data"
   ]
  },
  {
   "cell_type": "code",
   "execution_count": 18,
   "metadata": {},
   "outputs": [],
   "source": [
    "def load(filename):\n",
    "    with open(filename, 'rb') as file:\n",
    "        return pickle.load(file)\n",
    "\n",
    "stability_data = load('data/stability-data.pkl')\n",
    "igt_data       = load('data/igt-data.pkl')\n",
    "xigt_data      = load('data/xigt-data-v2.pkl')"
   ]
  },
  {
   "cell_type": "markdown",
   "metadata": {},
   "source": [
    "### Set the style and layout"
   ]
  },
  {
   "cell_type": "code",
   "execution_count": 3,
   "metadata": {},
   "outputs": [],
   "source": [
    "TEXT_WIDTH_PT = 247.94499\n",
    "EXTRA_INCHES  = 0.5\n",
    "\n",
    "def subplots(rows, cols,\n",
    "             titles=True, transpose_titles=False, x=0.12, y=0.65,\n",
    "             extra_inches=EXTRA_INCHES,\n",
    "             **kwargs):\n",
    "    pt = TEXT_WIDTH_PT + figures.inches_to_pt(extra_inches)\n",
    "    fig, axes = figures.subplots(rows, cols, pt, **kwargs)\n",
    "    if titles:\n",
    "        figures.title_subplots(axes.T if transpose_titles else axes, x=x, y=y)\n",
    "    return fig, axes"
   ]
  },
  {
   "cell_type": "code",
   "execution_count": 4,
   "metadata": {},
   "outputs": [
    {
     "name": "stdout",
     "output_type": "stream",
     "text": [
      "purple (0.050383, 0.029803, 0.527975, 1.0)\n",
      "orange (0.918109, 0.453603, 0.339529, 1.0)\n"
     ]
    }
   ],
   "source": [
    "c = plt.cm.plasma\n",
    "GRAY   = \"gray\"\n",
    "PURPLE = c(0.0)\n",
    "ORANGE = c(0.65)\n",
    "print(\"purple\", PURPLE)\n",
    "print(\"orange\", ORANGE)\n",
    "\n",
    "figures.use_tex_params()"
   ]
  },
  {
   "cell_type": "code",
   "execution_count": 53,
   "metadata": {},
   "outputs": [
    {
     "name": "stdout",
     "output_type": "stream",
     "text": [
      "Creating 4 by 2 subplots, (3.930814860938149, 4.858754375085935) inches.\n"
     ]
    },
    {
     "data": {
      "image/png": "[encoded data removed]",
      "text/plain": [
       "<Figure size 283.019x349.83 with 8 Axes>"
      ]
     },
     "metadata": {
      "needs_background": "light"
     },
     "output_type": "display_data"
    }
   ],
   "source": [
    "fig, axes = subplots(4, 2, sharex='col', sharey='col', transpose_titles=True)\n",
    "\n",
    "all_samples = np.concatenate(\n",
    "    [stability_data[k][t]['sample']\n",
    "         for k in ['opt-based imputer', 'opt-based imputer (half)',\n",
    "                   'direct imputer',    'direct imputer (half)'   ]\n",
    "         for t in [0, 50]\n",
    "    ]\n",
    ")\n",
    "\n",
    "s_range = all_samples.min(), all_samples.max()\n",
    "support = np.linspace(*s_range, 500)\n",
    "bins =  np.linspace(*s_range, 50)\n",
    "\n",
    "for i, k in enumerate(['opt-based imputer', 'opt-based imputer (half)',\n",
    "                       'direct imputer',    'direct imputer (half)'   ]):\n",
    "    log = stability_data[k]\n",
    "    # expectiles\n",
    "    axes[i, 0].plot(*log[0]['minor_expectiles'], color=\"gray\", linewidth=0.8)\n",
    "    taus = log[0]['major_expectiles'][1]\n",
    "    axes[i, 0].scatter(np.full_like(taus, -14.3), taus,\n",
    "                       marker=\"_\", color=\"black\", zorder=10, s=15)\n",
    "    # samples\n",
    "    axes[i, 1].yaxis.set_label_position(\"right\")\n",
    "    axes[i, 1].yaxis.tick_right()\n",
    "    axes[i, 1].hist(log[0]['sample'], density=True, bins=bins, alpha=0.7, color=\"gray\")\n",
    "    for t, color in [(1, PURPLE), (50, ORANGE)]:\n",
    "        axes[i, 0].plot(*log[t]['minor_expectiles'], color=color, linewidth=0.8)\n",
    "        if i < 2:\n",
    "            kd = stats.gaussian_kde(log[t]['sample'], bw_method=0.18)\n",
    "            axes[i, 1].plot(support, kd.pdf(support), color=color, linewidth=0.8)\n",
    "            axes[i, 1].scatter(log[t]['sample'], np.full_like(log[1]['sample'], 0.005),\n",
    "                               marker=\"|\", color=color, zorder=10, s=10)\n",
    "        else:\n",
    "            axes[i, 1].hist(log[t]['sample'], density=True, bins=bins, alpha=0.5,\n",
    "                           color=color)\n",
    "\n",
    "axes[i, 0].set_xlim([-15, 15])\n",
    "axes[i, 0].set_yticks([0, 0.5, 1])\n",
    "axes[i, 0].set_ylabel(\"Asymmetry\")\n",
    "axes[i, 0].set_xlabel(\"Expectile\")\n",
    "\n",
    "axes[i, 1].set_ylim([0, 0.2])\n",
    "axes[i, 1].set_xlim([-15, 15])\n",
    "axes[i, 1].set_yticks([0, 0.19])\n",
    "axes[i, 1].set_yticklabels([])\n",
    "axes[i, 1].set_ylabel(\"Density\")\n",
    "axes[i, 1].set_xlabel(\"Return\")\n",
    "\n",
    "plt.tight_layout(w_pad=0.7, h_pad=0.5)\n",
    "plt.savefig('plots/stability.pdf', bbox_inches='tight')\n",
    "plt.show()"
   ]
  },
  {
   "cell_type": "markdown",
   "metadata": {},
   "source": [
    "### Plot the igt data"
   ]
  },
  {
   "cell_type": "code",
   "execution_count": 50,
   "metadata": {},
   "outputs": [
    {
     "name": "stdout",
     "output_type": "stream",
     "text": [
      "Creating 3 by 2 subplots, (3.930814860938149, 3.6440657813144512) inches.\n"
     ]
    },
    {
     "data": {
      "image/png": "[encoded data removed]",
      "text/plain": [
       "<Figure size 283.019x262.373 with 6 Axes>"
      ]
     },
     "metadata": {
      "needs_background": "light"
     },
     "output_type": "display_data"
    }
   ],
   "source": [
    "def plot_multi_bars(axis, heights, colors):\n",
    "    N, K = heights.shape\n",
    "    # make plots\n",
    "    # prepare offsets\n",
    "    xs = np.arange(0, N)\n",
    "    os,h = np.linspace(-.4, .4, K, endpoint=False, retstep=True)\n",
    "    os += h/2\n",
    "    # add bars\n",
    "    for i, hs in enumerate(heights):\n",
    "        axis.bar(xs[i] + os, hs, h, color=colors, alpha=0.9, edgecolor=\"k\")\n",
    "    axis.axhline(linewidth=1, color='black')\n",
    "\n",
    "def transform(data):\n",
    "    return np.array([\n",
    "        [data['A1'], data['A2']],\n",
    "        [data['B1'], data['B2']],\n",
    "        [data['C1'], data['C2']],\n",
    "        [data['D1'], data['D2']],\n",
    "    ])\n",
    "\n",
    "fig, axes = subplots(3, 2, sharey=False)\n",
    "\n",
    "for ax in axes[:, -1]:\n",
    "    ax.yaxis.set_label_position(\"right\")\n",
    "    ax.yaxis.tick_right()\n",
    "for ax in axes[:, 0]:\n",
    "    ax.set_yticklabels([])\n",
    "for ax in axes[:-1, :].flat:\n",
    "    ax.set_xticklabels([])\n",
    "    ax.tick_params(axis='x', which=u'both',length=0)\n",
    "axes[0, 0].set_ylabel(\"Pred. reward\")\n",
    "axes[0, 1].set_ylabel(\"Choices\")\n",
    "axes[1, 1].set_ylabel(\"Pred. reward\")\n",
    "axes[2, 0].set_xticks([0, 1, 2, 3])\n",
    "axes[2, 0].set_xticklabels(['$A$', '$B$', '$C$', '$D$'])\n",
    "axes[2, 1].set_xticks([0, 1, 2, 3])\n",
    "axes[2, 1].set_xticklabels(['$A$', '$B$', '$C$', '$D$'])\n",
    "axes[2, 1].set_xlabel(\"Deck\")\n",
    "\n",
    "# plot the action counts\n",
    "axes[0, 1].set_ylim(0, 0.99)\n",
    "axes[0, 1].yaxis.set_major_formatter(mtick.PercentFormatter(1.0))\n",
    "axes[0, 1].set_yticks([0, 0.5])\n",
    "counts = np.atleast_2d(igt_data['traditional action counts'])\n",
    "counts = (counts / counts.sum()).T\n",
    "plot_multi_bars(axes[0, 1], counts, GRAY)\n",
    "\n",
    "# plot the state values\n",
    "plot_multi_bars(axes[0, 0], transform(igt_data['traditional']),      [PURPLE, ORANGE])\n",
    "plot_multi_bars(axes[1, 0], transform(igt_data['opt-based']),        [PURPLE, ORANGE])\n",
    "plot_multi_bars(axes[1, 1], transform(igt_data['opt-based (half)']), [PURPLE, ORANGE])\n",
    "plot_multi_bars(axes[2, 0], transform(igt_data['direct']),           [PURPLE, ORANGE])\n",
    "plot_multi_bars(axes[2, 1], transform(igt_data['direct (half)']),    [PURPLE, ORANGE])\n",
    "\n",
    "for ax in axes[[0, 1, 1, 2, 2], [0, 0, 1, 0, 1]]:\n",
    "    ax.set_ylim(-40, 40)\n",
    "    ax.set_yticks([-25, 0, 25])\n",
    "\n",
    "plt.tight_layout(w_pad=0.7, h_pad=0.4)\n",
    "plt.savefig('plots/igt.pdf', bbox_inches='tight')\n",
    "plt.show()"
   ]
  },
  {
   "cell_type": "code",
   "execution_count": 51,
   "metadata": {},
   "outputs": [
    {
     "name": "stdout",
     "output_type": "stream",
     "text": [
      "Creating 2 by 2 subplots, (3.930814860938149, 2.4293771875429675) inches.\n"
     ]
    },
    {
     "data": {
      "image/png": "[encoded data removed]",
      "text/plain": [
       "<Figure size 283.019x174.915 with 4 Axes>"
      ]
     },
     "metadata": {
      "needs_background": "light"
     },
     "output_type": "display_data"
    }
   ],
   "source": [
    "fig, axes = subplots(2, 2, sharey=False, titles=False)\n",
    "\n",
    "# for all plot on the right, tick right\n",
    "for ax in axes[:, -1]:\n",
    "    ax.yaxis.set_label_position(\"right\")\n",
    "    ax.yaxis.tick_right()\n",
    "for ax in axes[:, 0]:\n",
    "    ax.set_yticklabels([])\n",
    "for ax in axes[:-1, :].flat:\n",
    "    ax.set_xticklabels([])\n",
    "    ax.tick_params(axis='x', which=u'both',length=0)\n",
    "axes[0, 0].set_ylabel(\"Pred. reward\")\n",
    "axes[0, 1].set_ylabel(\"Choices\")\n",
    "axes[1, 1].set_ylabel(\"Pred. reward\")\n",
    "axes[1, 0].set_xticks([0, 1, 2, 3])\n",
    "axes[1, 0].set_xticklabels(['$A\\'$', '$B$', '$C$', '$D$'])\n",
    "axes[1, 1].set_xticks([0, 1, 2, 3])\n",
    "axes[1, 1].set_xticklabels(['$A\\'$', '$B$', '$C$', '$D$'])\n",
    "axes[1, 1].set_xlabel(\"Deck\")\n",
    "\n",
    "# plot the action counts\n",
    "\n",
    "axes[0, 1].set_ylim(0, 0.99)\n",
    "axes[0, 1].yaxis.set_major_formatter(mtick.PercentFormatter(1.0))\n",
    "axes[0, 1].set_yticks([0, 0.5])\n",
    "counts = np.stack([xigt_data['traditional action counts'],\n",
    "                     xigt_data['direct action counts'],\n",
    "                     xigt_data['direct (half) action counts']])\n",
    "counts = (counts / counts.sum(axis=1, keepdims=True)).T\n",
    "plot_multi_bars(axes[0, 1], counts, ['gray', c(0), c(0.65)])\n",
    "\n",
    "# plot the state values\n",
    "plot_multi_bars(axes[0, 0], transform(xigt_data['traditional']),   [PURPLE, ORANGE])\n",
    "plot_multi_bars(axes[1, 0], transform(xigt_data['direct']),        [PURPLE, ORANGE])\n",
    "plot_multi_bars(axes[1, 1], transform(xigt_data['direct (half)']), [PURPLE, ORANGE])\n",
    "\n",
    "axes[0, 0].set_title(\"(a)\", x=0.12, y=0.65)\n",
    "axes[0, 1].set_title(\"(b)\", x=0.12, y=0.65)\n",
    "axes[1, 0].set_title(\"(c)\", x=0.12, y=0.65)\n",
    "axes[1, 1].set_title(\"(d)\", x=0.25, y=0.65)\n",
    "\n",
    "for ax in axes[[0, 1, 1], [0, 0, 1]]:\n",
    "    ax.set_ylim(-40, 40)\n",
    "    ax.set_yticks([-25, 0, 25])\n",
    "\n",
    "plt.tight_layout(w_pad=0.7, h_pad=0.4)\n",
    "plt.savefig('plots/xigt-v2.pdf', bbox_inches='tight')\n",
    "plt.show()"
   ]
  },
  {
   "cell_type": "code",
   "execution_count": 23,
   "metadata": {},
   "outputs": [],
   "source": [
    "# TODO: Online expectiles and learning rate stability"
   ]
  },
  {
   "cell_type": "code",
   "execution_count": 48,
   "metadata": {},
   "outputs": [
    {
     "name": "stdout",
     "output_type": "stream",
     "text": [
      "Creating 1 by 1 subplots, (3.930814860938149, 2.4293771875429675) inches.\n"
     ]
    },
    {
     "data": {
      "image/png": "[encoded data removed]",
      "text/plain": [
       "<Figure size 283.019x174.915 with 3 Axes>"
      ]
     },
     "metadata": {
      "needs_background": "light"
     },
     "output_type": "display_data"
    },
    {
     "name": "stdout",
     "output_type": "stream",
     "text": [
      "Creating 1 by 1 subplots, (3.930814860938149, 2.4293771875429675) inches.\n"
     ]
    },
    {
     "data": {
      "image/png": "[encoded data removed]",
      "text/plain": [
       "<Figure size 283.019x174.915 with 3 Axes>"
      ]
     },
     "metadata": {
      "needs_background": "light"
     },
     "output_type": "display_data"
    }
   ],
   "source": [
    "from util.expectiles import expectile, tauspace\n",
    "from util.gmm import EXAMPLE\n",
    "\n",
    "def learn_expectiles(sample, taus, base_learn_rate=0.02, scheme=\"mean\",\n",
    "                     cm=plt.cm.plasma, plot=True, filename=None):\n",
    "    taus = np.asarray(taus)\n",
    "    true_expts = expectile(sample, taus)\n",
    "    \n",
    "    # configure learning rates\n",
    "    if scheme == \"mean\":\n",
    "        neg_learn_rates = base_learn_rate * (1-taus)\n",
    "        pos_learn_rates = base_learn_rate * taus\n",
    "    elif scheme == \"geo\":\n",
    "        neg_learn_rates = base_learn_rate * 0.5 * np.sqrt((1-taus)/taus)\n",
    "        pos_learn_rates = base_learn_rate * 0.5 * np.sqrt(taus/(1-taus))\n",
    "    elif scheme == \"simple\":\n",
    "        neg_learn_rates = base_learn_rate * np.ones_like(taus)\n",
    "        pos_learn_rates = base_learn_rate * taus/(1-taus)\n",
    "\n",
    "    # learn\n",
    "    pred_expts = np.zeros((sample.size+1, taus.size))\n",
    "    for i, x in enumerate(sample, 1):\n",
    "        pred_errors = x - pred_expts[i-1]\n",
    "        # use negative update rate, except where error was positive\n",
    "        learn_rates = np.where(pred_errors > 0, pos_learn_rates, neg_learn_rates)\n",
    "        # with these rates, perform the update\n",
    "        pred_expts[i] = pred_expts[i-1] + learn_rates * pred_errors\n",
    "\n",
    "    # plot\n",
    "    fig, (ax1) = subplots(1, 1, titles=False, adjust=False)\n",
    "    ax2 = ax1.twinx()\n",
    "    ax3 = ax1.twiny()\n",
    "    ax3.hist(sample, color=\"gray\", bins=30, density=True, alpha=0.3,\n",
    "             orientation='horizontal', histtype='stepfilled',\n",
    "             label=\"sample\")\n",
    "    ax3.legend(loc=\"lower left\")\n",
    "    ax3.set_xticks([])\n",
    "    ax3.set_yticks([])\n",
    "    ax3.set_xlim([0, 0.2])\n",
    "    for tau, true_eps, pred_epss in reversed(list(zip(taus, true_expts, pred_expts.T))):\n",
    "        color = cm(tau)\n",
    "        ax1.axhline(true_eps, color=color, linestyle=\":\", linewidth=0.8)\n",
    "        ax2.plot(pred_epss, color=color,   linestyle=\"-\", linewidth=0.8)\n",
    "    ax1.set_xlim([0, sample.size])\n",
    "    ax1.set_xlabel(\"number of updates\")\n",
    "    ax2.set_ylim(ax1.get_ylim())\n",
    "    ax1.set_yticks(true_expts)\n",
    "    ax1.set_yticklabels([f\"$\\\\epsilon(\\\\tau={t:.1f})$\" for t in taus])\n",
    "    ax2.set_yticks(pred_expts[-1])\n",
    "    ax2.set_yticklabels([f\"$\\\\hat\\\\epsilon(\\\\tau={t:.1f})$\" for t in taus])\n",
    "\n",
    "    plt.tight_layout()\n",
    "    if filename is not None:\n",
    "        plt.savefig(filename, bbox_inches='tight')\n",
    "    plt.show()\n",
    "    \n",
    "sample = EXAMPLE(1024, plot=False)\n",
    "learn_expectiles(sample, tauspace(5), scheme=\"mean\", filename=\"plots/lrs-mean5.pdf\")\n",
    "learn_expectiles(sample, tauspace(5), scheme=\"geo\",  filename=\"plots/lrs-geo5.pdf\")"
   ]
  },
  {
   "cell_type": "code",
   "execution_count": 35,
   "metadata": {},
   "outputs": [
    {
     "name": "stdout",
     "output_type": "stream",
     "text": [
      "Creating 1 by 1 subplots, (3.930814860938149, 2.4293771875429675) inches.\n"
     ]
    },
    {
     "data": {
      "image/png": "[encoded data removed]",
      "text/plain": [
       "<Figure size 283.019x174.915 with 2 Axes>"
      ]
     },
     "metadata": {
      "needs_background": "light"
     },
     "output_type": "display_data"
    }
   ],
   "source": [
    "from util.expectiles import expectile, tauspace\n",
    "from util.gmm import EXAMPLE\n",
    "\n",
    "def learn_expectiles(sample, taus, base_learn_rate=0.02, scheme=\"mean\"):\n",
    "    taus = np.asarray(taus)\n",
    "\n",
    "    # configure learning rates\n",
    "    if scheme == \"mean\":\n",
    "        neg_learn_rates = base_learn_rate * (1-taus)\n",
    "        pos_learn_rates = base_learn_rate * taus\n",
    "    elif scheme == \"geo\":\n",
    "        neg_learn_rates = base_learn_rate * 0.5 * np.sqrt((1-taus)/taus)\n",
    "        pos_learn_rates = base_learn_rate * 0.5 * np.sqrt(taus/(1-taus))\n",
    "    elif scheme == \"simple\":\n",
    "        neg_learn_rates = base_learn_rate * np.ones_like(taus)\n",
    "        pos_learn_rates = base_learn_rate * taus/(1-taus)\n",
    "\n",
    "    # learn\n",
    "    pred_expts = np.zeros((sample.size+1, taus.size))\n",
    "    for i, x in enumerate(sample, 1):\n",
    "        pred_errors = x - pred_expts[i-1]\n",
    "        # use negative update rate, except where error was positive\n",
    "        learn_rates = np.where(pred_errors > 0, pos_learn_rates, neg_learn_rates)\n",
    "        # with these rates, perform the update\n",
    "        pred_expts[i] = pred_expts[i-1] + learn_rates * pred_errors\n",
    "\n",
    "    return pred_expts\n",
    "\n",
    "sample = EXAMPLE(1024, plot=False)\n",
    "taus = np.array([0.01, 0.15, 0.5, 0.85, 0.99])\n",
    "true_expts = expectile(sample, taus)\n",
    "pred_expts_geo = learn_expectiles(sample, taus, scheme=\"geo\")\n",
    "pred_expts_ari = learn_expectiles(sample, taus, scheme=\"mean\")\n",
    "\n",
    "    \n",
    "# plot\n",
    "cm=plt.cm.plasma\n",
    "fig, ax1 = subplots(1, 1, titles=False, adjust=False)\n",
    "ax3 = ax1.twiny()\n",
    "ax3.hist(sample, color=\"gray\", bins=30, density=True, alpha=0.3,\n",
    "         orientation='horizontal', histtype='stepfilled',\n",
    "         label=\"sample\")\n",
    "ax3.plot([], color=\"black\", linestyle=\":\",  linewidth=0.8, label=\"true $\\\\epsilon$\")\n",
    "ax3.plot([], color=\"black\", linestyle=\"-\",  linewidth=0.8, label=\"const. geo. $\\\\hat\\\\epsilon$\")\n",
    "ax3.plot([], color=\"black\", linestyle=\"--\", linewidth=0.8, label=\"const. arith. $\\\\hat\\\\epsilon$\")\n",
    "ax3.set_xticks([])\n",
    "ax3.set_yticks([])\n",
    "ax3.set_xlim([0, 0.2])\n",
    "for tau, true_eps, pred_epss_geo, pred_epss_ari in \\\n",
    "        reversed(list(zip(taus, true_expts, pred_expts_geo.T, pred_expts_ari.T))):\n",
    "    color = cm(tau)\n",
    "    ax1.plot(pred_epss_geo, color=color, linestyle=\"-\", linewidth=0.8)\n",
    "    ax1.plot(pred_epss_ari, color=color, linestyle=\"--\", linewidth=0.8)\n",
    "    ax1.axhline(true_eps, color=color,   linestyle=\":\", linewidth=0.8)\n",
    "\n",
    "ax1.set_xlim([0, sample.size])\n",
    "ax1.set_xlabel(\"number of updates\")\n",
    "ax1.set_ylim(ax1.get_ylim())\n",
    "ax1.yaxis.set_label_position(\"right\")\n",
    "ax1.yaxis.tick_right()\n",
    "ax1.set_yticks(true_expts)\n",
    "ax1.set_yticklabels([f\"$\\\\tau={t:.2f}$\" for t in taus])\n",
    "\n",
    "ax3.legend(loc=\"lower center\", ncol=4,\n",
    "           columnspacing=0.8, handletextpad=0.4,\n",
    "          handlelength=0.8)\n",
    "\n",
    "plt.tight_layout()\n",
    "plt.savefig(\"plots/lrs-both.pdf\", bbox_inches='tight')\n",
    "plt.show()"
   ]
  },
  {
   "cell_type": "code",
   "execution_count": 13,
   "metadata": {},
   "outputs": [
    {
     "name": "stdout",
     "output_type": "stream",
     "text": [
      "Creating 1 by 1 subplots, (3.930814860938149, 2.4293771875429675) inches.\n"
     ]
    },
    {
     "data": {
      "image/png": "[encoded data removed]",
      "text/plain": [
       "<Figure size 283.019x174.915 with 1 Axes>"
      ]
     },
     "metadata": {
      "needs_background": "light"
     },
     "output_type": "display_data"
    },
    {
     "name": "stdout",
     "output_type": "stream",
     "text": [
      "fit arithmetic mean: LinregressResult(slope=-0.4757524195546939, intercept=1.450046517927103, rvalue=-0.21424111148271038, pvalue=0.19030664156535232, stderr=0.35659434245000826)\n",
      "fit geometric  mean: LinregressResult(slope=0.036955299168196856, intercept=1.111707184734436, rvalue=0.018962349578539286, pvalue=0.9087802784803206, stderr=0.3203359037898052)\n"
     ]
    }
   ],
   "source": [
    "# # code from deepmind notebook:\n",
    "# # #\n",
    "# fig5 = scipy.io.loadmat(\"Figure5.mat\")\n",
    "# zero_crossings = fig5['zeroCrossings'][:, 0]\n",
    "# neg_scale, pos_scale = np.zeros(40), np.zeros(40)\n",
    "# for cell in range(zero_crossings.shape[0]):\n",
    "#     neg_scale[cell] = fig5['scaleFactNeg'][cell, 0]\n",
    "#     pos_scale[cell] = fig5['scaleFactPos'][cell, 0]\n",
    "# # #\n",
    "# hard-coding data:\n",
    "empirical_aneg = np.array(\n",
    "    [ 1.09973087, 1.09434475, 0.81754647, 1.75496968, 1.67606203\n",
    "    , 1.31782321, 4.2774962 , 2.07487821, 1.20795529, 1.79866939\n",
    "    , 1.5543464 , 1.53714398, 1.75414581, 0.99157462, 1.25610374\n",
    "    , 1.64890165, 1.11847172, 1.33288318, 1.06756076#,  0.13837144\n",
    "    , 3.18862819, 0.40993265, 1.57898859, 1.25206699, 0.7408865 \n",
    "    , 1.37378935, 0.64970639, 0.5290385 , 1.15801591, 0.88804109\n",
    "    , 0.39178265, 0.78761288, 0.9504729 , 0.78957621, 1.8922945 \n",
    "    , 1.27743886, 0.89029917, 1.35846128, 0.24108255, 0.94215354\n",
    "    ])\n",
    "empirical_apos = np.array(\n",
    "    [ 1.24414574, 1.69343895, 1.19657156, 1.48369474, 1.9833994 \n",
    "    , 1.58354132, 0.35294234, 1.33308177, 1.05604004, 1.37478407\n",
    "    , 0.78240602, 0.81737661, 0.59848422, 0.82444628, 1.01318986\n",
    "    , 0.68250221, 1.0999396 , 0.98199883, 0.40079706#,     np.nan # no pos. responses\n",
    "    , 0.4510079 , 0.79450089, 1.92060389, 1.01949126, 2.06489026\n",
    "    , 0.79670455, 0.56191573, 1.10647801, 0.69592584, 1.85254849\n",
    "    , 1.05660636, 1.94111345, 2.16614124, 0.47228333, 1.30471873\n",
    "    , 1.37844464, 1.20718559, 0.26307763, 1.13978478, 1.92823193\n",
    "    ])\n",
    "\n",
    "\n",
    "# The experiment reveals the following:\n",
    "empirical_taus = empirical_apos / (empirical_apos + empirical_aneg)\n",
    "empirical_geom = (empirical_apos * empirical_aneg) ** 0.5\n",
    "empirical_arim = (empirical_apos + empirical_aneg) *  0.5\n",
    "\n",
    "# let's see what happens!\n",
    "fig, ax = subplots(1, 1, titles=False, adjust=False)\n",
    "\n",
    "ax.scatter(empirical_taus, empirical_apos, marker=\"+\", color=GRAY,   alpha=0.9, label=\"$\\\\alpha_+$\")\n",
    "ax.scatter(empirical_taus, empirical_aneg, marker=\"_\", color=GRAY,   alpha=0.9, label=\"$\\\\alpha_-$\")\n",
    "ax.scatter(empirical_taus, empirical_geom, marker=\"*\", color=PURPLE, alpha=0.6, label=\"geometric mean\")\n",
    "ax.scatter(empirical_taus, empirical_arim, marker=\"x\", color=ORANGE, alpha=0.8, label=\"arithmetic mean\")\n",
    "\n",
    "ax.set_xlim([0, 1])\n",
    "ax.set_xlabel(r\"asymmetry $\\tau = \\alpha_+ / (\\alpha_+ + \\alpha_-)$\")\n",
    "ax.set_yticklabels([])\n",
    "ax.set_ylabel(r\"asymmetric learning rates $\\alpha_\\pm$\")\n",
    "ax.legend(ncol=2)\n",
    "\n",
    "# linear regression\n",
    "import scipy.stats\n",
    "lr_arim = scipy.stats.linregress(empirical_taus, empirical_arim)\n",
    "lr_geom = scipy.stats.linregress(empirical_taus, empirical_geom)\n",
    "x = np.linspace(0, 1, 2)\n",
    "plt.plot(x, lr_arim.intercept + lr_arim.slope*x, color=ORANGE, alpha=1, linestyle=\":\", linewidth=0.8)\n",
    "plt.plot(x, lr_geom.intercept + lr_geom.slope*x, color=PURPLE, alpha=1, linestyle=\":\", linewidth=0.8)\n",
    "\n",
    "plt.tight_layout()\n",
    "plt.savefig(\"plots/lrs-mice.pdf\", bbox_inches='tight')\n",
    "plt.show()\n",
    "\n",
    "print(\"fit arithmetic mean:\", lr_arim)\n",
    "print(\"fit geometric  mean:\", lr_geom)"
   ]
  },
  {
   "cell_type": "code",
   "execution_count": 96,
   "metadata": {},
   "outputs": [
    {
     "name": "stdout",
     "output_type": "stream",
     "text": [
      "Creating 1 by 3 subplots, (3.4308148609381486, 0.7067867310560065) inches.\n"
     ]
    },
    {
     "data": {
      "image/png": "[encoded data removed]",
      "text/plain": [
       "<Figure size 247.019x50.8886 with 4 Axes>"
      ]
     },
     "metadata": {
      "needs_background": "light"
     },
     "output_type": "display_data"
    }
   ],
   "source": [
    "fig, axes = subplots(1, 3, extra_inches=0, sharey=True)\n",
    "\n",
    "for ax in axes: ax.set_axis_off()\n",
    "axes[1] = axes[1].twinx()\n",
    "axes[1].set_axis_off()\n",
    "\n",
    "# distributions\n",
    "g  = GMM([0.40,0.60], [[1,   1], [5, 1  ]])\n",
    "g1 = GMM([0.40,0.60], [[1.3, 1], [5, 0.9]])\n",
    "g2 = GMM([0.3,0.7], [[1,   2], [5, 0.9]])\n",
    "\n",
    "# pdfs\n",
    "x  = np.linspace(-3, 9)\n",
    "y  = g.pdf(x)\n",
    "y1 = g1.pdf(x)\n",
    "y2 = g2.pdf(x)\n",
    "\n",
    "# expectiles\n",
    "t1 = tauspace(5)\n",
    "e1 = expectile(g.rvs(1000), t1)\n",
    "t2 = t1[2:]\n",
    "e2 = e1[2:]\n",
    "\n",
    "# plot!\n",
    "axes[0].plot(x, norm(y), color=GRAY, linewidth=0.8)\n",
    "axes[0].axhline(-0.02, color=\"black\", linewidth=0.8)\n",
    "\n",
    "axes[1].axhline(1, color=\"black\", linewidth=0.8)\n",
    "axes[1].axhline(0, color=\"black\", linewidth=0.8)\n",
    "axes[1].scatter(e1, np.full_like(e1, 1), color=PURPLE, marker=\"x\", zorder=3, linewidth=1)\n",
    "axes[1].scatter(e2, np.full_like(e2, 0), color=ORANGE, marker=\"x\", zorder=3, linewidth=1)\n",
    "axes[1].set_ylim(-0.5, 2)\n",
    "\n",
    "axes[2].plot(x, norm(y), color=GRAY, linewidth=0.8)\n",
    "axes[2].plot(x, norm(y1), color=PURPLE, linewidth=0.8)\n",
    "axes[2].plot(x, norm(y2), color=ORANGE, linewidth=0.8)\n",
    "axes[2].axhline(-0.02, color=\"black\", linewidth=0.8)\n",
    "\n",
    "plt.tight_layout()\n",
    "plt.savefig(\"plots/hypothesis.pdf\", bbox_inches='tight')\n",
    "plt.show()"
   ]
  }
 ],
 "metadata": {
  "kernelspec": {
   "display_name": "Python 3",
   "language": "python",
   "name": "python3"
  },
  "language_info": {
   "codemirror_mode": {
    "name": "ipython",
    "version": 3
   },
   "file_extension": ".py",
   "mimetype": "text/x-python",
   "name": "python",
   "nbconvert_exporter": "python",
   "pygments_lexer": "ipython3",
   "version": "3.8.3"
  }
 },
 "nbformat": 4,
 "nbformat_minor": 4
}
