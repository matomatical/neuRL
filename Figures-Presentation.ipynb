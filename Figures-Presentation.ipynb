{
 "cells": [
  {
   "cell_type": "code",
   "execution_count": 2,
   "metadata": {},
   "outputs": [],
   "source": [
    "import pickle\n",
    "import os\n",
    "\n",
    "import numpy as np\n",
    "import matplotlib.pyplot as plt\n",
    "import matplotlib.ticker as mtick\n",
    "import scipy.stats as stats"
   ]
  },
  {
   "cell_type": "code",
   "execution_count": 3,
   "metadata": {},
   "outputs": [],
   "source": [
    "%load_ext autoreload\n",
    "%autoreload 2\n",
    "%matplotlib inline"
   ]
  },
  {
   "cell_type": "markdown",
   "metadata": {},
   "source": [
    "### Acknowledgement\n",
    "\n",
    "Thanks to [J. Walton's post](https://jwalton.info/Embed-Publication-Matplotlib-Latex/)---instructions for pdf-perfect plots from matplotlib.\n",
    "\n",
    "Thanks to Sihan for writing the code to plot the IGT data."
   ]
  },
  {
   "cell_type": "markdown",
   "metadata": {},
   "source": [
    "## Load the data"
   ]
  },
  {
   "cell_type": "code",
   "execution_count": 4,
   "metadata": {},
   "outputs": [],
   "source": [
    "def load(filename):\n",
    "    with open(filename, 'rb') as file:\n",
    "        return pickle.load(file)\n",
    "stability_data = load('data/stability-data.pkl')\n",
    "xigt_data      = load('data/xigt-data-v2.pkl')"
   ]
  },
  {
   "cell_type": "markdown",
   "metadata": {},
   "source": [
    "### Set the style and layout"
   ]
  },
  {
   "cell_type": "code",
   "execution_count": 5,
   "metadata": {},
   "outputs": [],
   "source": [
    "def subplots(rows, cols, figsize,\n",
    "#              titles=True, transpose_titles=False, x=0.12, y=0.65,\n",
    "#              adjust=True, wspace=0.06, hspace=0.12,\n",
    "             **kwargs):\n",
    "    fig, axes = plt.subplots(rows, cols, figsize=figsize, **kwargs)\n",
    "#     if titles:\n",
    "#         figures.title_subplots(axes.T if transpose_titles else axes, x=x, y=y)\n",
    "#     if adjust:\n",
    "#         plt.subplots_adjust(hspace=hspace, wspace=wspace)\n",
    "    return fig, axes"
   ]
  },
  {
   "cell_type": "code",
   "execution_count": 6,
   "metadata": {},
   "outputs": [],
   "source": [
    "C = plt.cm.gist_rainbow\n",
    "C1 = C(0.6)\n",
    "C2 = C(0.8)\n",
    "CA = C(0.0)\n",
    "CC = C(0.4)"
   ]
  },
  {
   "cell_type": "code",
   "execution_count": 123,
   "metadata": {},
   "outputs": [
    {
     "data": {
      "image/png": "[encoded data removed]",
      "text/plain": [
       "<Figure size 900x112.5 with 5 Axes>"
      ]
     },
     "metadata": {
      "needs_background": "light"
     },
     "output_type": "display_data"
    }
   ],
   "source": [
    "times = [0, 1, 2, 3, 4]\n",
    "fig, axes = subplots(1, len(times), (2.5*len(times), 2.5/1.6), sharex=True, sharey=True)\n",
    "bins = np.linspace(-12, 12, 25)\n",
    "log = stability_data['direct imputer (half)']\n",
    "for i, t in enumerate(times):\n",
    "    color = C(t/len(times))\n",
    "    axes[i].hist(log[0]['sample'], density=True, bins=bins,\n",
    "                 histtype='step', color=\"black\")\n",
    "    axes[i].hist(log[t]['sample'], density=True, bins=bins, alpha=0.6,\n",
    "                 histtype='stepfilled', color=color, edgecolor=\"black\")\n",
    "axes[0].set_yticklabels([])\n",
    "axes[0].set_ylabel(\"Density\")\n",
    "axes[0].set_xlabel(\"Return\")\n",
    "plt.savefig(\"plots/imputation-divergence-first-4-iterations.png\", bbox_inches=\"tight\")\n",
    "plt.show()"
   ]
  },
  {
   "cell_type": "code",
   "execution_count": 55,
   "metadata": {},
   "outputs": [
    {
     "name": "stdout",
     "output_type": "stream",
     "text": [
      "taus [0.1 0.3 0.5 0.7 0.9]\n",
      "epss [-5.8234553  -2.98752436  0.03031826  3.02882374  5.83915773]\n"
     ]
    },
    {
     "data": {
      "image/png": "[encoded data removed]",
      "text/plain": [
       "<Figure size 360x225 with 1 Axes>"
      ]
     },
     "metadata": {
      "needs_background": "light"
     },
     "output_type": "display_data"
    }
   ],
   "source": [
    "from util.expectiles import tauspace, expectile\n",
    "\n",
    "fig, ax = subplots(1, 1, (5, 5/1.6))\n",
    "bins = np.linspace(-9, 9, 50)\n",
    "log = stability_data['direct imputer (half)']\n",
    "sample = log[0]['sample']\n",
    "epss = expectile(sample, [0.01, 0.2, 0.5, 0.8, 0.99])\n",
    "print(\"taus\", taus)\n",
    "print(\"epss\", epss)\n",
    "\n",
    "ax.hist(sample, density=True, bins=bins, alpha=0.8,\n",
    "        histtype='stepfilled', color=\"grey\", edgecolor=\"black\")\n",
    "ax.scatter(epss, np.full_like(epss, 0.025), marker=\"X\", alpha=0.9,\n",
    "           s=200, c=C([0.85, 0.75, 0.45, 0.2, 0.05]), edgecolor=\"k\",\n",
    "           zorder=3)\n",
    "\n",
    "ax.set_ylabel(\"Density\")\n",
    "ax.set_yticklabels([])\n",
    "ax.set_xlabel(\"Return\")\n",
    "ax.set_xticks([-5, 0, 5])\n",
    "plt.savefig(\"plots/expectiles-bimodal.png\", bbox_inches=\"tight\")\n",
    "plt.show()"
   ]
  },
  {
   "cell_type": "code",
   "execution_count": 8,
   "metadata": {},
   "outputs": [
    {
     "name": "stdout",
     "output_type": "stream",
     "text": [
      "taus [0.5]\n",
      "epss [0.03031826]\n"
     ]
    },
    {
     "data": {
      "image/png": "[encoded data removed]",
      "text/plain": [
       "<Figure size 360x225 with 1 Axes>"
      ]
     },
     "metadata": {
      "needs_background": "light"
     },
     "output_type": "display_data"
    }
   ],
   "source": [
    "from util.expectiles import tauspace, expectile\n",
    "\n",
    "fig, ax = subplots(1, 1, (5, 5/1.6))\n",
    "bins = np.linspace(-9, 9, 50)\n",
    "log = stability_data['direct imputer (half)']\n",
    "sample = log[0]['sample']\n",
    "epss = expectile(sample, [0.5])\n",
    "print(\"taus\", [0.5])\n",
    "print(\"epss\", epss)\n",
    "\n",
    "ax.hist(sample, density=True, bins=bins, alpha=0.8,\n",
    "        histtype='stepfilled', color=\"grey\", edgecolor=\"black\")\n",
    "ax.scatter(epss, np.full_like(epss, 0.025), marker=\"X\", alpha=0.9,\n",
    "           s=200, c=C([0.45]), edgecolor=\"k\",\n",
    "           zorder=3)\n",
    "\n",
    "ax.set_ylabel(\"Density\")\n",
    "ax.set_yticklabels([])\n",
    "ax.set_xlabel(\"Return\")\n",
    "ax.set_xticks([-5, 0, 5])\n",
    "plt.savefig(\"plots/expectiles-bimodal-traditional.png\", bbox_inches=\"tight\")\n",
    "plt.show()"
   ]
  },
  {
   "cell_type": "markdown",
   "metadata": {},
   "source": [
    "### Plot the igt data"
   ]
  },
  {
   "cell_type": "code",
   "execution_count": 122,
   "metadata": {},
   "outputs": [
    {
     "data": {
      "image/png": "[encoded data removed]",
      "text/plain": [
       "<Figure size 576x180 with 2 Axes>"
      ]
     },
     "metadata": {
      "needs_background": "light"
     },
     "output_type": "display_data"
    },
    {
     "data": {
      "image/png": "[encoded data removed]",
      "text/plain": [
       "<Figure size 576x180 with 2 Axes>"
      ]
     },
     "metadata": {
      "needs_background": "light"
     },
     "output_type": "display_data"
    },
    {
     "data": {
      "image/png": "[encoded data removed]",
      "text/plain": [
       "<Figure size 576x180 with 2 Axes>"
      ]
     },
     "metadata": {
      "needs_background": "light"
     },
     "output_type": "display_data"
    }
   ],
   "source": [
    "def plot_multi_bars(axis, heights, colors, transpose_colors=False):\n",
    "    N, K = heights.shape\n",
    "    # make plots\n",
    "    # prepare offsets\n",
    "    xs = np.arange(0, N)\n",
    "    os,h = np.linspace(-.4, .4, K, endpoint=False, retstep=True)\n",
    "    os += h/2\n",
    "    # add bars\n",
    "    for i, hs in enumerate(heights):\n",
    "        c = colors[i] if transpose_colors else colors\n",
    "        axis.bar(xs[i] + os, hs, h, color=c, alpha=0.6, edgecolor=\"black\")\n",
    "    axis.axhline(linewidth=1, color='black')\n",
    "\n",
    "def plot(choices, predictions, filename):\n",
    "    fig, (ax1, ax2) = plt.subplots(1, 2, figsize=(8, 4/1.6))\n",
    "\n",
    "    ax1.set_xlabel(\"Deck\")\n",
    "    ax1.set_xticks([0, 1])\n",
    "    ax1.set_xticklabels(['$A$', '$C$'])\n",
    "    ax1.set_ylabel(\"Choices during training\")\n",
    "    ax1.set_ylim(0, 0.99)\n",
    "    ax1.yaxis.set_major_formatter(mtick.PercentFormatter(1.0))    \n",
    "    # plot the action counts\n",
    "    choices = np.array(choices)[[0, 2]] # just A and C\n",
    "    choices = choices / choices.sum()\n",
    "    plot_multi_bars(ax1, np.atleast_2d(choices).T, [CA, CC], transpose_colors=True)\n",
    "    \n",
    "    # plot the predictions\n",
    "    ax2.set_xlabel(\"Action\")\n",
    "    ax2.set_xticks([-0.2, 0.2, 0.8, 1.2])\n",
    "    ax2.set_xticklabels(['$A_1$', \"$A_2$\", '$C_1$', \"$C_2$\"])\n",
    "    ax2.set_ylabel(\"Predicted reward\")\n",
    "    ax2.set_ylim(0, 39)\n",
    "    ax2.set_yticks([0, 10, 20, 30])\n",
    "    ax2.yaxis.set_label_position(\"right\")\n",
    "    ax2.yaxis.tick_right()   \n",
    "    preds = np.array([[predictions['A1'], predictions['A2']],\n",
    "                      [predictions['C1'], predictions['C2']],])\n",
    "    plot_multi_bars(ax2, preds, [C1, C2])\n",
    "\n",
    "    plt.tight_layout()\n",
    "    plt.savefig(filename, bbox_inches=\"tight\")\n",
    "    plt.show()\n",
    "\n",
    "plot(xigt_data['traditional action counts'],   xigt_data['traditional'],\n",
    "     \"plots/igt-A-vs-C-traditional-model.png\")\n",
    "plot(xigt_data['direct action counts'],        xigt_data['direct'],\n",
    "     \"plots/igt-A-vs-C-full-distributional-model.png\")\n",
    "plot(xigt_data['direct (half) action counts'], xigt_data['direct (half)'],\n",
    "    \"plots/igt-A-vs-C-half-distributional-model.png\")"
   ]
  }
 ],
 "metadata": {
  "kernelspec": {
   "display_name": "Python 3",
   "language": "python",
   "name": "python3"
  },
  "language_info": {
   "codemirror_mode": {
    "name": "ipython",
    "version": 3
   },
   "file_extension": ".py",
   "mimetype": "text/x-python",
   "name": "python",
   "nbconvert_exporter": "python",
   "pygments_lexer": "ipython3",
   "version": "3.8.3"
  }
 },
 "nbformat": 4,
 "nbformat_minor": 4
}
