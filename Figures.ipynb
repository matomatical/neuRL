{
 "cells": [
  {
   "cell_type": "code",
   "execution_count": 15,
   "metadata": {},
   "outputs": [],
   "source": [
    "import pickle\n",
    "import os\n",
    "\n",
    "import numpy as np\n",
    "import matplotlib.pyplot as plt\n",
    "import matplotlib.ticker as mtick\n",
    "import scipy.stats as stats\n",
    "\n",
    "import figures"
   ]
  },
  {
   "cell_type": "code",
   "execution_count": 2,
   "metadata": {},
   "outputs": [],
   "source": [
    "%load_ext autoreload\n",
    "%autoreload 2\n",
    "%matplotlib inline"
   ]
  },
  {
   "cell_type": "markdown",
   "metadata": {},
   "source": [
    "### Acknowledgement\n",
    "\n",
    "Thanks to [J. Walton's post](https://jwalton.info/Embed-Publication-Matplotlib-Latex/)---instructions for pdf-perfect plots from matplotlib.\n",
    "\n",
    "Thanks to Sihan for writing the code to plot the IGT data."
   ]
  },
  {
   "cell_type": "markdown",
   "metadata": {},
   "source": [
    "## Load the data"
   ]
  },
  {
   "cell_type": "code",
   "execution_count": 14,
   "metadata": {},
   "outputs": [],
   "source": [
    "def load(filename):\n",
    "    with open(filename, 'rb') as file:\n",
    "        return pickle.load(file)\n",
    "\n",
    "stability_data = load('data/stability-data.pkl')\n",
    "igt_data       = load('data/igt-data.pkl')\n",
    "xigt_data      = load('data/xigt-data.pkl')"
   ]
  },
  {
   "cell_type": "markdown",
   "metadata": {},
   "source": [
    "### Set the style and layout"
   ]
  },
  {
   "cell_type": "code",
   "execution_count": 18,
   "metadata": {},
   "outputs": [],
   "source": [
    "TEXT_WIDTH_PT = 247.94499\n",
    "EXTRA_INCHES  = 0.5\n",
    "\n",
    "def subplots(rows, cols, transpose_titles=False, wspace=0.06, hspace=0.12, x=0.12, y=0.65, **kwargs):\n",
    "    pt = TEXT_WIDTH_PT + figures.inches_to_pt(EXTRA_INCHES)\n",
    "    fig, axes = figures.subplots(rows, cols, pt, **kwargs)\n",
    "    figures.title_subplots(axes.T if transpose_titles else axes, x=x, y=y)\n",
    "    plt.subplots_adjust(hspace=hspace, wspace=wspace)\n",
    "    return fig, axes"
   ]
  },
  {
   "cell_type": "code",
   "execution_count": 19,
   "metadata": {},
   "outputs": [
    {
     "name": "stdout",
     "output_type": "stream",
     "text": [
      "purple (0.050383, 0.029803, 0.527975, 1.0)\n",
      "orange (0.918109, 0.453603, 0.339529, 1.0)\n"
     ]
    }
   ],
   "source": [
    "c = plt.cm.plasma\n",
    "GRAY   = \"gray\"\n",
    "PURPLE = c(0.0)\n",
    "ORANGE = c(0.65)\n",
    "print(\"purple\", PURPLE)\n",
    "print(\"orange\", ORANGE)\n",
    "\n",
    "figures.use_tex_params()"
   ]
  },
  {
   "cell_type": "code",
   "execution_count": 20,
   "metadata": {},
   "outputs": [
    {
     "name": "stdout",
     "output_type": "stream",
     "text": [
      "Creating 4 by 2 subplots, (3.930814860938149, 4.858754375085935) inches.\n"
     ]
    },
    {
     "data": {
      "image/png": "[encoded data removed]",
      "text/plain": [
       "<Figure size 283.019x349.83 with 8 Axes>"
      ]
     },
     "metadata": {
      "needs_background": "light"
     },
     "output_type": "display_data"
    }
   ],
   "source": [
    "fig, axes = subplots(4, 2, sharex='col', sharey='col', wspace=0.06, hspace=0.18)\n",
    "\n",
    "all_samples = np.concatenate(\n",
    "    [stability_data[k][t]['sample']\n",
    "         for k in ['opt-based imputer', 'opt-based imputer (half)',\n",
    "                   'direct imputer',    'direct imputer (half)'   ]\n",
    "         for t in [0, 50]\n",
    "    ]\n",
    ")\n",
    "\n",
    "s_range = all_samples.min(), all_samples.max()\n",
    "support = np.linspace(*s_range, 500)\n",
    "bins =  np.linspace(*s_range, 50)\n",
    "\n",
    "for i, k in enumerate(['opt-based imputer', 'opt-based imputer (half)',\n",
    "                       'direct imputer',    'direct imputer (half)'   ]):\n",
    "    log = stability_data[k]\n",
    "    # expectiles\n",
    "    axes[i, 0].plot(*log[0]['minor_expectiles'], color=\"gray\", linewidth=0.8)\n",
    "    taus = log[0]['major_expectiles'][1]\n",
    "    axes[i, 0].scatter(np.full_like(taus, -14.3), taus,\n",
    "                       marker=\"_\", color=\"black\", zorder=10, s=15)\n",
    "    # samples\n",
    "    axes[i, 1].yaxis.set_label_position(\"right\")\n",
    "    axes[i, 1].yaxis.tick_right()\n",
    "    axes[i, 1].hist(log[0]['sample'], density=True, bins=bins, alpha=0.7, color=\"gray\")\n",
    "    for t, color in [(1, PURPLE), (50, ORANGE)]:\n",
    "        axes[i, 0].plot(*log[t]['minor_expectiles'], color=color, linewidth=0.8)\n",
    "        if i < 2:\n",
    "            kd = stats.gaussian_kde(log[t]['sample'], bw_method=0.18)\n",
    "            axes[i, 1].plot(support, kd.pdf(support), color=color, linewidth=0.8)\n",
    "            axes[i, 1].scatter(log[t]['sample'], np.full_like(log[1]['sample'], 0.006),\n",
    "                               marker=\"|\", color=color, zorder=10, s=10)\n",
    "        else:\n",
    "            axes[i, 1].hist(log[t]['sample'], density=True, bins=bins, alpha=0.5,\n",
    "                           color=color)\n",
    "\n",
    "axes[i, 0].set_xlim([-15, 15])\n",
    "axes[i, 0].set_yticks([0, 0.5, 1])\n",
    "axes[i, 0].set_ylabel(\"Asymmetry\")\n",
    "axes[i, 0].set_xlabel(\"Expectile\")\n",
    "\n",
    "axes[i, 1].set_ylim([0, 0.2])\n",
    "axes[i, 1].set_xlim([-15, 15])\n",
    "axes[i, 1].set_yticks([0, 0.19])\n",
    "axes[i, 1].set_yticklabels([])\n",
    "axes[i, 1].set_ylabel(\"Density\")\n",
    "axes[i, 1].set_xlabel(\"Return\")\n",
    "\n",
    "plt.savefig('plots/stability.pdf', bbox_inches='tight')\n",
    "plt.show()"
   ]
  },
  {
   "cell_type": "markdown",
   "metadata": {},
   "source": [
    "### Plot the igt data"
   ]
  },
  {
   "cell_type": "code",
   "execution_count": 21,
   "metadata": {},
   "outputs": [
    {
     "name": "stdout",
     "output_type": "stream",
     "text": [
      "Creating 3 by 2 subplots, (3.930814860938149, 3.6440657813144512) inches.\n"
     ]
    },
    {
     "data": {
      "image/png": "[encoded data removed]",
      "text/plain": [
       "<Figure size 283.019x262.373 with 6 Axes>"
      ]
     },
     "metadata": {
      "needs_background": "light"
     },
     "output_type": "display_data"
    }
   ],
   "source": [
    "def plot_multi_bars(axis, heights, colors):\n",
    "    N, K = heights.shape\n",
    "    # make plots\n",
    "    # prepare offsets\n",
    "    xs = np.arange(0, N)\n",
    "    os,h = np.linspace(-.4, .4, K, endpoint=False, retstep=True)\n",
    "    os += h/2\n",
    "    # add bars\n",
    "    for i, hs in enumerate(heights):\n",
    "        axis.bar(xs[i] + os, hs, h, color=colors)\n",
    "    axis.axhline(linewidth=1, color='black')\n",
    "\n",
    "def transform(data):\n",
    "    return np.array([\n",
    "        [data['A1'], data['A2']],\n",
    "        [data['B1'], data['B2']],\n",
    "        [data['C1'], data['C2']],\n",
    "        [data['D1'], data['D2']],\n",
    "    ])\n",
    "\n",
    "fig, axes = subplots(3, 2, sharey=False)\n",
    "\n",
    "for ax in axes[:, -1]:\n",
    "    ax.yaxis.set_label_position(\"right\")\n",
    "    ax.yaxis.tick_right()\n",
    "for ax in axes[:, 0]:\n",
    "    ax.set_yticklabels([])\n",
    "for ax in axes[:-1, :].flat:\n",
    "    ax.set_xticklabels([])\n",
    "    ax.tick_params(axis='x', which=u'both',length=0)\n",
    "axes[0, 0].set_ylabel(\"Pred. reward\")\n",
    "axes[0, 1].set_ylabel(\"Choices\")\n",
    "axes[1, 1].set_ylabel(\"Pred. reward\")\n",
    "axes[2, 0].set_xticks([0, 1, 2, 3])\n",
    "axes[2, 0].set_xticklabels(['A', 'B', 'C', 'D'])\n",
    "axes[2, 1].set_xticks([0, 1, 2, 3])\n",
    "axes[2, 1].set_xticklabels(['A', 'B', 'C', 'D'])\n",
    "axes[2, 1].set_xlabel(\"Deck\")\n",
    "\n",
    "# plot the action counts\n",
    "axes[0, 1].set_ylim(0, 0.99)\n",
    "axes[0, 1].yaxis.set_major_formatter(mtick.PercentFormatter(1.0))\n",
    "axes[0, 1].set_yticks([0, 0.5])\n",
    "counts = np.atleast_2d(igt_data['traditional action counts'])\n",
    "counts = (counts / counts.sum()).T\n",
    "plot_multi_bars(axes[0, 1], counts, GRAY)\n",
    "\n",
    "# plot the state values\n",
    "plot_multi_bars(axes[0, 0], transform(igt_data['traditional']),      [PURPLE, ORANGE])\n",
    "plot_multi_bars(axes[1, 0], transform(igt_data['opt-based']),        [PURPLE, ORANGE])\n",
    "plot_multi_bars(axes[1, 1], transform(igt_data['opt-based (half)']), [PURPLE, ORANGE])\n",
    "plot_multi_bars(axes[2, 0], transform(igt_data['direct']),           [PURPLE, ORANGE])\n",
    "plot_multi_bars(axes[2, 1], transform(igt_data['direct (half)']),    [PURPLE, ORANGE])\n",
    "\n",
    "plt.savefig('plots/igt.pdf', bbox_inches='tight')\n",
    "plt.show()"
   ]
  },
  {
   "cell_type": "code",
   "execution_count": 22,
   "metadata": {},
   "outputs": [
    {
     "name": "stdout",
     "output_type": "stream",
     "text": [
      "Creating 2 by 2 subplots, (3.930814860938149, 2.4293771875429675) inches.\n"
     ]
    },
    {
     "data": {
      "image/png": "[encoded data removed]",
      "text/plain": [
       "<Figure size 283.019x174.915 with 4 Axes>"
      ]
     },
     "metadata": {
      "needs_background": "light"
     },
     "output_type": "display_data"
    }
   ],
   "source": [
    "fig, axes = subplots(2, 2, sharey=False)\n",
    "\n",
    "# for all plot on the right, tick right\n",
    "for ax in axes[:, -1]:\n",
    "    ax.yaxis.set_label_position(\"right\")\n",
    "    ax.yaxis.tick_right()\n",
    "for ax in axes[:, 0]:\n",
    "    ax.set_yticklabels([])\n",
    "for ax in axes[:-1, :].flat:\n",
    "    ax.set_xticklabels([])\n",
    "    ax.tick_params(axis='x', which=u'both',length=0)\n",
    "axes[0, 0].set_ylabel(\"Pred. reward\")\n",
    "axes[0, 1].set_ylabel(\"Choices\")\n",
    "axes[1, 1].set_ylabel(\"Pred. reward\")\n",
    "axes[1, 0].set_xticks([0, 1, 2, 3])\n",
    "axes[1, 0].set_xticklabels(['A', 'B', 'C', 'D'])\n",
    "axes[1, 1].set_xticks([0, 1, 2, 3])\n",
    "axes[1, 1].set_xticklabels(['A', 'B', 'C', 'D'])\n",
    "axes[1, 1].set_xlabel(\"Deck\")\n",
    "\n",
    "# plot the action counts\n",
    "\n",
    "axes[0, 1].set_ylim(0, 0.99)\n",
    "axes[0, 1].yaxis.set_major_formatter(mtick.PercentFormatter(1.0))\n",
    "axes[0, 1].set_yticks([0, 0.5])\n",
    "counts = np.stack([xigt_data['traditional action counts'],\n",
    "                     xigt_data['direct action counts'],\n",
    "                     xigt_data['direct (half) action counts']])\n",
    "counts = (counts / counts.sum(axis=1, keepdims=True)).T\n",
    "plot_multi_bars(axes[0, 1], counts, ['gray', c(0), c(0.65)])\n",
    "\n",
    "# plot the state values\n",
    "plot_multi_bars(axes[0, 0], transform(xigt_data['traditional']),   [PURPLE, ORANGE])\n",
    "plot_multi_bars(axes[1, 0], transform(xigt_data['direct']),        [PURPLE, ORANGE])\n",
    "plot_multi_bars(axes[1, 1], transform(xigt_data['direct (half)']), [PURPLE, ORANGE])\n",
    "\n",
    "plt.savefig('plots/xigt.pdf', bbox_inches='tight')\n",
    "plt.show()"
   ]
  },
  {
   "cell_type": "code",
   "execution_count": 23,
   "metadata": {},
   "outputs": [],
   "source": [
    "# TODO: Online expectiles and learning rate stability"
   ]
  }
 ],
 "metadata": {
  "kernelspec": {
   "display_name": "Python 3",
   "language": "python",
   "name": "python3"
  },
  "language_info": {
   "codemirror_mode": {
    "name": "ipython",
    "version": 3
   },
   "file_extension": ".py",
   "mimetype": "text/x-python",
   "name": "python",
   "nbconvert_exporter": "python",
   "pygments_lexer": "ipython3",
   "version": "3.8.3"
  }
 },
 "nbformat": 4,
 "nbformat_minor": 4
}
