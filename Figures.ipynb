{
 "cells": [
  {
   "cell_type": "code",
   "execution_count": 44,
   "metadata": {},
   "outputs": [],
   "source": [
    "import pickle\n",
    "import os\n",
    "import string\n",
    "\n",
    "import numpy as np\n",
    "import matplotlib\n",
    "import matplotlib.pyplot as plt\n",
    "import matplotlib.ticker as mtick\n",
    "import scipy.stats as stats"
   ]
  },
  {
   "cell_type": "code",
   "execution_count": 2,
   "metadata": {},
   "outputs": [],
   "source": [
    "%load_ext autoreload\n",
    "%autoreload 2\n",
    "%matplotlib inline"
   ]
  },
  {
   "cell_type": "markdown",
   "metadata": {},
   "source": [
    "### Acknowledgement\n",
    "\n",
    "Thanks to [J. Walton's post](https://jwalton.info/Embed-Publication-Matplotlib-Latex/)---instructions for pdf-perfect plots from matplotlib.\n",
    "\n",
    "Thanks to Sihan for writing the code to plot the IGT data."
   ]
  },
  {
   "cell_type": "markdown",
   "metadata": {},
   "source": [
    "## Load the data"
   ]
  },
  {
   "cell_type": "code",
   "execution_count": 3,
   "metadata": {},
   "outputs": [],
   "source": [
    "def load(filename):\n",
    "    with open(filename, 'rb') as file:\n",
    "        return pickle.load(file)\n",
    "\n",
    "stability_data = load('data/stability-data.pkl')\n",
    "igt_data       = load('data/igt-data.pkl')\n",
    "xigt_data      = load('data/xigt-data.pkl')"
   ]
  },
  {
   "cell_type": "markdown",
   "metadata": {},
   "source": [
    "### Set the style and layout"
   ]
  },
  {
   "cell_type": "code",
   "execution_count": 4,
   "metadata": {},
   "outputs": [],
   "source": [
    "TEXT_WIDTH_PT = 247.94499\n",
    "INCH_TO_PT = 72.27\n",
    "GOLDEN_RATIO = (5 ** 0.5 - 1) / 2"
   ]
  },
  {
   "cell_type": "code",
   "execution_count": 46,
   "metadata": {},
   "outputs": [],
   "source": [
    "def convert_width(pt, fraction, n_subplots=(1,1)):\n",
    "    width = pt * fraction / INCH_TO_PT\n",
    "    height = width * GOLDEN_RATIO * (n_subplots[0] / n_subplots[1])\n",
    "    return width, height\n",
    "\n",
    "def set_subplots(rows, cols, fraction=0.8, hspace=0.06, wspace=0.06, sharex=True, sharey=True):\n",
    "    fig, axs = plt.subplots(rows, cols, figsize=convert_width(TEXT_WIDTH_PT, fraction, (rows, cols)),\n",
    "                            sharex=sharex, sharey=sharey)\n",
    "    plt.subplots_adjust(hspace=hspace, wspace=wspace)\n",
    "#     fig.patch.set_visible(False)\n",
    "    return fig, axs\n",
    "\n",
    "def label_subplots(axes, transpose=True, x=0.16, y=0.5):\n",
    "    axes = axes.T.flat if transpose else axes.flat\n",
    "    for i, axis in enumerate(axes):\n",
    "        letter = string.ascii_lowercase[i]\n",
    "        axis.set_title(f\"({letter})\", x=x, y=y)"
   ]
  },
  {
   "cell_type": "code",
   "execution_count": 62,
   "metadata": {},
   "outputs": [],
   "source": [
    "tex_fonts = {\n",
    "    # Use LaTeX to write all text\n",
    "    \"text.usetex\": True,\n",
    "    \"font.family\": \"serif\",\n",
    "    # Use 10pt font in plots, to match 10pt font in document\n",
    "    \"axes.labelsize\":  8, # 6,\n",
    "    \"font.size\":       8, # 6,\n",
    "    # Make the legend/label fonts a little smaller\n",
    "    \"legend.fontsize\": 8, # 6,\n",
    "    \"xtick.labelsize\": 8, # 5,\n",
    "    \"ytick.labelsize\": 8, # 5\n",
    "}\n",
    "# plt.style.use('seaborn')\n",
    "plt.rcParams.update(tex_fonts)"
   ]
  },
  {
   "cell_type": "code",
   "execution_count": 94,
   "metadata": {},
   "outputs": [
    {
     "data": {
      "image/png": "[encoded data removed]",
      "text/plain": [
       "<Figure size 197.615x244.265 with 8 Axes>"
      ]
     },
     "metadata": {
      "needs_background": "light"
     },
     "output_type": "display_data"
    }
   ],
   "source": [
    "# fig, axes = plt.subplots(4, 2, figsize=(4, 5.2), sharex='col', sharey='col')\n",
    "fig, axes = set_subplots(4, 2, sharex='col', sharey='col', wspace=0.06, hspace=0.18)\n",
    "c = plt.cm.plasma\n",
    "\n",
    "all_samples = np.concatenate(\n",
    "    [stability_data[k][t]['sample']\n",
    "         for k in ['opt-based imputer', 'opt-based imputer (half)',\n",
    "                   'direct imputer',    'direct imputer (half)'   ]\n",
    "         for t in [0, 50]\n",
    "    ]\n",
    ")\n",
    "\n",
    "s_range = all_samples.min(), all_samples.max()\n",
    "support = np.linspace(*s_range, 500)\n",
    "bins =  np.linspace(*s_range, 50)\n",
    "\n",
    "for i, k in enumerate(['opt-based imputer', 'opt-based imputer (half)',\n",
    "                       'direct imputer',    'direct imputer (half)'   ]):\n",
    "    log = stability_data[k]\n",
    "    # expectiles\n",
    "    axes[i, 0].plot(*log[0]['minor_expectiles'], color=\"gray\", linewidth=0.8)\n",
    "    taus = log[0]['major_expectiles'][1]\n",
    "    axes[i, 0].scatter(np.full_like(taus, -15), taus,\n",
    "                       marker=\"_\", color=\"black\", zorder=10, s=10)\n",
    "    # samples\n",
    "    axes[i, 1].yaxis.set_label_position(\"right\")\n",
    "    axes[i, 1].yaxis.tick_right()\n",
    "    axes[i, 1].hist(log[0]['sample'], density=True, bins=bins, alpha=0.7, color=\"gray\")\n",
    "    for t in [1, 50]:\n",
    "        color = c(t / 77)\n",
    "        axes[i, 0].plot(*log[t]['minor_expectiles'], color=color, linewidth=0.8)\n",
    "        if i < 2:\n",
    "            kd = stats.gaussian_kde(log[t]['sample'], bw_method=0.18)\n",
    "            axes[i, 1].plot(support, kd.pdf(support), color=color, linewidth=0.8)\n",
    "            axes[i, 1].scatter(log[t]['sample'], np.zeros_like(log[1]['sample']),\n",
    "                               marker=\"|\", color=color, zorder=10, s=10)\n",
    "        else:\n",
    "            axes[i, 1].hist(log[t]['sample'], density=True, bins=bins, alpha=0.5,\n",
    "                           color=color)\n",
    "\n",
    "# axes[i, 0].set_ylim([0, 1])\n",
    "axes[i, 0].set_xlim([-15, 15])\n",
    "axes[i, 0].set_yticks([0, 0.5, 1])\n",
    "axes[i, 0].set_ylabel(\"Asymmetry\")\n",
    "axes[i, 0].set_xlabel(\"Expectile\")\n",
    "\n",
    "axes[i, 1].set_ylim([0, 0.2])\n",
    "axes[i, 1].set_xlim([-15, 15])\n",
    "axes[i, 1].set_yticks([0, 0.19])\n",
    "axes[i, 1].set_yticklabels([])\n",
    "axes[i, 1].set_ylabel(\"Density\")\n",
    "axes[i, 1].set_xlabel(\"Return\")\n",
    "\n",
    "label_subplots(axes, x=0.14, y=0.55)\n",
    "\n",
    "plt.savefig('plots/stability.pdf', bbox_inches='tight')\n",
    "plt.show()"
   ]
  },
  {
   "cell_type": "markdown",
   "metadata": {},
   "source": [
    "**Define `plot_single_bars` and `plot_triple_bars` for action counts**  \n",
    "**Define `plot_double_bars` for state values**"
   ]
  },
  {
   "cell_type": "code",
   "execution_count": 16,
   "metadata": {},
   "outputs": [],
   "source": [
    "def plot_single_bars(counts, ax, bar_width=0.2):\n",
    "    ind = np.arange(4)\n",
    "    data = np.array(counts)\n",
    "    ax.bar(ind, data / data.sum(), bar_width, color=\"gray\")\n",
    "    ax.set_ylim(0.01, 0.99)\n",
    "    ax.yaxis.set_major_formatter(mtick.PercentFormatter(1.0))\n",
    "    ax.set_yticks([0, 0.5])\n",
    "    \n",
    "    ax.tick_params(axis='x', which=u'both',length=0)\n",
    "    ax.patch.set_visible(False)\n",
    "    \n",
    "MAX_ABS = 35\n",
    "\n",
    "def plot_double_bars(predictions, ax, bar_width=0.2):\n",
    "    table = np.zeros((2, 4))\n",
    "    for k, v in predictions.items():\n",
    "        idx_c, gid_c = k\n",
    "        idx = ord(idx_c) - ord('A')\n",
    "        gid = int(gid_c) - 1\n",
    "        table[gid, idx] = v\n",
    "\n",
    "    ind = np.arange(4)\n",
    "    ax.bar(ind, table[0], bar_width, color=c(0.))\n",
    "    ax.bar(ind+bar_width, table[1], bar_width, color=c(0.65))\n",
    "    \n",
    "    ax.set_ylim(-MAX_ABS, MAX_ABS)\n",
    "    ax.set_yticks(np.linspace(-MAX_ABS+10, MAX_ABS-10, 3).astype(int))\n",
    "    ax.axhline(linewidth=1, color='black')\n",
    "    \n",
    "    ax.tick_params(axis='x', which=u'both',length=0)\n",
    "    ax.patch.set_visible(False)\n",
    "    \n",
    "def plot_triple_bars(counts, ax, bar_width=0.2):\n",
    "    ind = np.arange(4)\n",
    "    shifts = np.arange(3) * bar_width\n",
    "    colors = ['gray', c(0), c(0.65)]\n",
    "#     colors = ['#9467bd', '#e377c2', '#d62728']\n",
    "    data = np.array(counts)\n",
    "    percentage = data / data.sum(axis=1)[:, None]\n",
    "    for idx, count in enumerate(percentage):\n",
    "        ax.bar(ind+shifts[idx], count, bar_width, color=colors[idx])\n",
    "\n",
    "    ax.set_ylim(0, 0.99)\n",
    "    ax.yaxis.set_major_formatter(mtick.PercentFormatter(1.0))\n",
    "    \n",
    "    ax.tick_params(axis='x', which=u'both',length=0)\n",
    "    ax.patch.set_visible(False)"
   ]
  },
  {
   "cell_type": "markdown",
   "metadata": {},
   "source": [
    "**Plot the igt data**"
   ]
  },
  {
   "cell_type": "code",
   "execution_count": 88,
   "metadata": {},
   "outputs": [
    {
     "data": {
      "image/png": "[encoded data removed]",
      "text/plain": [
       "<Figure size 197.615x183.199 with 6 Axes>"
      ]
     },
     "metadata": {
      "needs_background": "light"
     },
     "output_type": "display_data"
    }
   ],
   "source": [
    "fig, axs = set_subplots(3, 2, sharey=False, wspace=0.06, hspace=0.12)\n",
    "bar_width = 0.28\n",
    "max_abs = 35\n",
    "ind = np.arange(4)\n",
    "\n",
    "# for all plot on the right, tick right\n",
    "for ax in axs[:, -1]:\n",
    "    ax.yaxis.set_label_position(\"right\")\n",
    "    ax.yaxis.tick_right()\n",
    "    ax.set_yticklabels([])\n",
    "axs[0, 0].set_ylabel(\"Choices\")\n",
    "axs[1, 0].set_ylabel(\"Pred. reward\")\n",
    "axs[2, 0].set_xlabel(\"Deck\")\n",
    "\n",
    "\n",
    "# plot the action counts\n",
    "axs[0, 0].set_xticks(ind+bar_width)\n",
    "axs[0, 0].set_xticklabels(['A', 'B', 'C', 'D'])\n",
    "plot_single_bars(igt_data['traditional action counts'], axs[0, 0], bar_width=bar_width*2)\n",
    "\n",
    "# plot the state values\n",
    "plot_double_bars(igt_data['traditional'],      axs[0, 1], bar_width=bar_width)\n",
    "plot_double_bars(igt_data['opt-based'],        axs[1, 0], bar_width=bar_width)\n",
    "plot_double_bars(igt_data['opt-based (half)'], axs[1, 1], bar_width=bar_width)\n",
    "plot_double_bars(igt_data['direct'],           axs[2, 0], bar_width=bar_width)\n",
    "plot_double_bars(igt_data['direct (half)'],    axs[2, 1], bar_width=bar_width)\n",
    "\n",
    "axs[2, 0].tick_params(axis='x', which='major',length=3)\n",
    "axs[2, 1].tick_params(axis='x', which='major',length=3)\n",
    "\n",
    "label_subplots(axs, x=0.14, y=0.55, transpose=False)\n",
    "plt.savefig('plots/igt.pdf', bbox_inches='tight')\n",
    "plt.show()"
   ]
  },
  {
   "cell_type": "markdown",
   "metadata": {},
   "source": [
    "**Plot the xigt data**"
   ]
  },
  {
   "cell_type": "code",
   "execution_count": 89,
   "metadata": {},
   "outputs": [
    {
     "data": {
      "image/png": "[encoded data removed]",
      "text/plain": [
       "<Figure size 197.615x122.133 with 4 Axes>"
      ]
     },
     "metadata": {
      "needs_background": "light"
     },
     "output_type": "display_data"
    }
   ],
   "source": [
    "# plot xigt data\n",
    "fig, axs = set_subplots(2, 2, sharey=False, wspace=0.06, hspace=0.12)\n",
    "bar_width = 0.28\n",
    "max_abs = 35\n",
    "ind = np.arange(4)\n",
    "\n",
    "# for all plot on the right, tick right\n",
    "for ax in axs[:, -1]:\n",
    "    ax.yaxis.set_label_position(\"right\")\n",
    "    ax.yaxis.tick_right()\n",
    "    ax.set_yticklabels([])\n",
    "axs[0, 0].set_ylabel(\"Choices\")\n",
    "axs[1, 0].set_ylabel(\"Pred. reward\")\n",
    "axs[1, 0].set_xlabel(\"Deck\")\n",
    "\n",
    "# plot the action counts\n",
    "axs[0, 0].set_xticks(ind+bar_width)\n",
    "axs[0, 0].set_xticklabels(['A', 'B', 'C', 'D'])\n",
    "plot_triple_bars(\n",
    "    [xigt_data['traditional action counts'],\n",
    "     xigt_data['direct action counts'],\n",
    "     xigt_data['direct (half) action counts']], axs[0, 0], bar_width=bar_width)\n",
    "\n",
    "# plot the state values\n",
    "plot_double_bars(xigt_data['traditional'], axs[0, 1], bar_width=bar_width)\n",
    "plot_double_bars(xigt_data['direct'], axs[1, 0], bar_width=bar_width)\n",
    "plot_double_bars(xigt_data['direct (half)'], axs[1, 1], bar_width=bar_width)\n",
    "\n",
    "axs[1, 0].tick_params(axis='x', which='major',length=3)\n",
    "axs[1, 1].tick_params(axis='x', which='major',length=3)\n",
    "\n",
    "label_subplots(axs, x=0.14, y=0.55, transpose=False)\n",
    "plt.savefig('plots/xigt.pdf', bbox_inches='tight')\n",
    "plt.show()"
   ]
  }
 ],
 "metadata": {
  "kernelspec": {
   "display_name": "Python 3",
   "language": "python",
   "name": "python3"
  },
  "language_info": {
   "codemirror_mode": {
    "name": "ipython",
    "version": 3
   },
   "file_extension": ".py",
   "mimetype": "text/x-python",
   "name": "python",
   "nbconvert_exporter": "python",
   "pygments_lexer": "ipython3",
   "version": "3.8.3"
  }
 },
 "nbformat": 4,
 "nbformat_minor": 4
}
